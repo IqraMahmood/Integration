{
 "cells": [
  {
   "cell_type": "code",
   "execution_count": null,
   "metadata": {},
   "outputs": [],
   "source": []
  },
  {
   "cell_type": "code",
   "execution_count": 1,
   "metadata": {},
   "outputs": [
    {
     "name": "stdout",
     "output_type": "stream",
     "text": [
      "Using device: cpu\n"
     ]
    }
   ],
   "source": [
    "import tangram as tg\n",
    "import anndata\n",
    "import torch\n",
    "\n",
    "# Check if GPU is available for faster training, else use CPU\n",
    "device = torch.device(\"cuda\" if torch.cuda.is_available() else \"cpu\")\n",
    "print(f\"Using device: {device}\")\n"
   ]
  },
  {
   "cell_type": "code",
   "execution_count": 2,
   "metadata": {},
   "outputs": [
    {
     "name": "stdout",
     "output_type": "stream",
     "text": [
      "Loading single-cell data...\n",
      "Single-cell data loaded. Shape: (3500, 50)\n",
      "Loading spatial data...\n",
      "Spatial data loaded. Shape: (3500, 50)\n"
     ]
    }
   ],
   "source": [
    "# Load single-cell and spatial data\n",
    "\n",
    "sc_path = r\"..\\data\\processed\\ad_sc_pca.h5ad\"\n",
    "sp_path = r\"..\\data\\processed\\ad_sp_pca.h5ad\"\n",
    "\n",
    "\n",
    "\n",
    "print(\"Loading single-cell data...\")\n",
    "sc_data = anndata.read_h5ad(sc_path)\n",
    "print(f\"Single-cell data loaded. Shape: {sc_data.shape}\")\n",
    "\n",
    "print(\"Loading spatial data...\")\n",
    "sp_data = anndata.read_h5ad(sp_path)\n",
    "print(f\"Spatial data loaded. Shape: {sp_data.shape}\")"
   ]
  },
  {
   "cell_type": "code",
   "execution_count": 3,
   "metadata": {},
   "outputs": [
    {
     "name": "stderr",
     "output_type": "stream",
     "text": [
      "INFO:root:50 training genes are saved in `uns``training_genes` of both single cell and spatial Anndatas.\n",
      "INFO:root:50 overlapped genes are saved in `uns``overlap_genes` of both single cell and spatial Anndatas.\n",
      "INFO:root:uniform based density prior is calculated and saved in `obs``uniform_density` of the spatial Anndata.\n",
      "INFO:root:rna count based density prior is calculated and saved in `obs``rna_count_based_density` of the spatial Anndata.\n"
     ]
    },
    {
     "name": "stdout",
     "output_type": "stream",
     "text": [
      "Finding common genes between single-cell and spatial data...\n",
      "Number of common genes: 50\n",
      "Filtering datasets to keep only common genes...\n",
      "Filtered single-cell data shape: (3500, 50)\n",
      "Filtered spatial data shape: (3500, 50)\n",
      "Normalizing single-cell and spatial data...\n",
      "Normalization complete.\n",
      "Training genes used: ['0', '20', '46', '41', '26', '35', '40', '33', '12', '6', '7', '34', '45', '31', '14', '32', '2', '18', '19', '23', '22', '13', '37', '47', '38', '29', '9', '49', '42', '25', '44', '16', '5', '15', '1', '21', '3', '30', '48', '43', '28', '4', '36', '39', '17', '24', '11', '27', '10', '8']\n"
     ]
    }
   ],
   "source": [
    "\n",
    "# Preprocessing\n",
    "print(\"Finding common genes between single-cell and spatial data...\")\n",
    "common_genes = sc_data.var_names.intersection(sp_data.var_names)\n",
    "print(f\"Number of common genes: {len(common_genes)}\")\n",
    "\n",
    "print(\"Filtering datasets to keep only common genes...\")\n",
    "sc_data = sc_data[:, common_genes]\n",
    "sp_data = sp_data[:, common_genes]\n",
    "print(f\"Filtered single-cell data shape: {sc_data.shape}\")\n",
    "print(f\"Filtered spatial data shape: {sp_data.shape}\")\n",
    "\n",
    "# Normalize single-cell data\n",
    "print(\"Normalizing single-cell and spatial data...\")\n",
    "tg.pp_adatas(sc_data, sp_data, genes=common_genes)\n",
    "print(\"Normalization complete.\")\n",
    "print(f\"Training genes used: {sc_data.uns['training_genes']}\")"
   ]
  },
  {
   "cell_type": "code",
   "execution_count": 4,
   "metadata": {},
   "outputs": [
    {
     "name": "stderr",
     "output_type": "stream",
     "text": [
      "INFO:root:Allocate tensors for mapping.\n",
      "INFO:root:Begin training with 50 genes and rna_count_based density_prior in cells mode...\n"
     ]
    },
    {
     "name": "stdout",
     "output_type": "stream",
     "text": [
      "Training Tangram model... (This may take some time)\n"
     ]
    },
    {
     "name": "stderr",
     "output_type": "stream",
     "text": [
      "INFO:root:Printing scores every 100 epochs.\n"
     ]
    },
    {
     "name": "stdout",
     "output_type": "stream",
     "text": [
      "Score: 0.008\n",
      "Score: 0.065\n",
      "Score: 0.126\n",
      "Score: 0.192\n",
      "Score: 0.260\n"
     ]
    },
    {
     "name": "stderr",
     "output_type": "stream",
     "text": [
      "INFO:root:Saving results..\n"
     ]
    },
    {
     "name": "stdout",
     "output_type": "stream",
     "text": [
      "Model training completed.\n"
     ]
    }
   ],
   "source": [
    "# Train Tangram model\n",
    "print(\"Training Tangram model... (This may take some time)\")\n",
    "tangram_model = tg.map_cells_to_space(\n",
    "    sc_data,\n",
    "    sp_data,\n",
    "    device=device,\n",
    "    num_epochs=500,\n",
    "    learning_rate=1e-3\n",
    ")\n",
    "print(\"Model training completed.\")\n",
    "\n",
    "# Save the mapped data to a file\n",
    "tangram_model.write('../data/processed/tangram_model.h5ad')"
   ]
  },
  {
   "cell_type": "code",
   "execution_count": null,
   "metadata": {},
   "outputs": [],
   "source": [
    "import scanpy as sc\n",
    "\n",
    "# Load the saved mapped data\n",
    "tangram_model = sc.read_h5ad('tangram_model.h5ad')\n"
   ]
  },
  {
   "cell_type": "code",
   "execution_count": 7,
   "metadata": {},
   "outputs": [
    {
     "data": {
      "text/plain": [
       "AnnData object with n_obs × n_vars = 3500 × 50\n",
       "    obs: 'uniform_density', 'rna_count_based_density'\n",
       "    var: 'n_cells', 'sparsity', 'is_training'\n",
       "    uns: 'training_genes', 'overlap_genes'"
      ]
     },
     "execution_count": 7,
     "metadata": {},
     "output_type": "execute_result"
    }
   ],
   "source": [
    "tg.project_genes(adata_map=tangram_model, adata_sc=sc_data)\n"
   ]
  },
  {
   "cell_type": "code",
   "execution_count": null,
   "metadata": {},
   "outputs": [
    {
     "ename": "AttributeError",
     "evalue": "'function' object has no attribute 'obs'",
     "output_type": "error",
     "traceback": [
      "\u001b[31m---------------------------------------------------------------------------\u001b[39m",
      "\u001b[31mAttributeError\u001b[39m                            Traceback (most recent call last)",
      "\u001b[36mCell\u001b[39m\u001b[36m \u001b[39m\u001b[32mIn[14]\u001b[39m\u001b[32m, line 1\u001b[39m\n\u001b[32m----> \u001b[39m\u001b[32m1\u001b[39m \u001b[43mtg\u001b[49m\u001b[43m.\u001b[49m\u001b[43mproject_cell_annotations\u001b[49m\u001b[43m(\u001b[49m\u001b[43mtangram_model\u001b[49m\u001b[43m,\u001b[49m\u001b[43m \u001b[49m\u001b[43msc_data\u001b[49m\u001b[43m,\u001b[49m\u001b[43m \u001b[49m\u001b[43mannotation\u001b[49m\u001b[43m=\u001b[49m\u001b[33;43m\"\u001b[39;49m\u001b[33;43mcell_subclass\u001b[39;49m\u001b[33;43m\"\u001b[39;49m\u001b[43m)\u001b[49m\n\u001b[32m      2\u001b[39m annotation_list = \u001b[38;5;28mlist\u001b[39m(pd.unique(sc_data.obs[\u001b[33m'\u001b[39m\u001b[33mcell_subclass\u001b[39m\u001b[33m'\u001b[39m]))\n\u001b[32m      3\u001b[39m tg.plot_cell_annotation_sc(sp_data, annotation_list,perc=\u001b[32m0.02\u001b[39m)\n",
      "\u001b[36mFile \u001b[39m\u001b[32mc:\\Users\\iqram\\.conda\\envs\\integration\\Lib\\site-packages\\tangram\\utils.py:146\u001b[39m, in \u001b[36mproject_cell_annotations\u001b[39m\u001b[34m(adata_map, adata_sp, annotation, threshold)\u001b[39m\n\u001b[32m    129\u001b[39m \u001b[38;5;28;01mdef\u001b[39;00m\u001b[38;5;250m \u001b[39m\u001b[34mproject_cell_annotations\u001b[39m(\n\u001b[32m    130\u001b[39m     adata_map, adata_sp, annotation=\u001b[33m\"\u001b[39m\u001b[33mcell_type\u001b[39m\u001b[33m\"\u001b[39m, threshold=\u001b[32m0.5\u001b[39m\n\u001b[32m    131\u001b[39m ):\n\u001b[32m    132\u001b[39m \u001b[38;5;250m    \u001b[39m\u001b[33;03m\"\"\"\u001b[39;00m\n\u001b[32m    133\u001b[39m \u001b[33;03m    Transfer `annotation` from single cell data onto space. \u001b[39;00m\n\u001b[32m    134\u001b[39m \n\u001b[32m   (...)\u001b[39m\u001b[32m    143\u001b[39m \u001b[33;03m        Update spatial Anndata by creating `obsm` `tangram_ct_pred` field with a dataframe with spatial prediction for each annotation (number_spots, number_annotations) \u001b[39;00m\n\u001b[32m    144\u001b[39m \u001b[33;03m    \"\"\"\u001b[39;00m\n\u001b[32m--> \u001b[39m\u001b[32m146\u001b[39m     df = one_hot_encoding(\u001b[43madata_map\u001b[49m\u001b[43m.\u001b[49m\u001b[43mobs\u001b[49m[annotation])\n\u001b[32m    147\u001b[39m     \u001b[38;5;28;01mif\u001b[39;00m \u001b[33m\"\u001b[39m\u001b[33mF_out\u001b[39m\u001b[33m\"\u001b[39m \u001b[38;5;129;01min\u001b[39;00m adata_map.obs.keys():\n\u001b[32m    148\u001b[39m         df_ct_prob = adata_map[adata_map.obs[\u001b[33m\"\u001b[39m\u001b[33mF_out\u001b[39m\u001b[33m\"\u001b[39m] > threshold]\n",
      "\u001b[31mAttributeError\u001b[39m: 'function' object has no attribute 'obs'"
     ]
    }
   ],
   "source": [
    "tg.project_cell_annotations(tangram_model, s_data, annotation=\"cell_subclass\")\n",
    "annotation_list = list(pd.unique(sc_data.obs['cell_subclass']))\n",
    "tg.plot_cell_annotation_sc(sp_data, annotation_list,perc=0.02)"
   ]
  },
  {
   "cell_type": "code",
   "execution_count": 6,
   "metadata": {},
   "outputs": [
    {
     "name": "stdout",
     "output_type": "stream",
     "text": [
      "Saving trained model to ../data/processed/tangram_trained_model.pth...\n",
      "Model saved successfully.\n"
     ]
    }
   ],
   "source": [
    "# Save the trained model\n",
    "model_path = \"../data/processed/tangram_trained_model.pth\"\n",
    "print(f\"Saving trained model to {model_path}...\")\n",
    "sp_data.write_h5ad(model_path)\n",
    "\n",
    "print(\"Model saved successfully.\")"
   ]
  },
  {
   "cell_type": "code",
   "execution_count": null,
   "metadata": {},
   "outputs": [],
   "source": []
  },
  {
   "cell_type": "code",
   "execution_count": null,
   "metadata": {},
   "outputs": [],
   "source": []
  },
  {
   "cell_type": "markdown",
   "metadata": {},
   "source": [
    "# 📌 Visualization "
   ]
  },
  {
   "cell_type": "code",
   "execution_count": 9,
   "metadata": {},
   "outputs": [],
   "source": [
    "import tangram as tg\n",
    "import anndata\n",
    "import torch\n",
    "import matplotlib.pyplot as plt\n",
    "\n",
    "# Load the trained spatial data\n",
    "\n",
    "model_path = \"..\\data\\processed\\tangram_trained_model.pth\"\n",
    "\n"
   ]
  },
  {
   "cell_type": "code",
   "execution_count": 11,
   "metadata": {},
   "outputs": [
    {
     "name": "stdout",
     "output_type": "stream",
     "text": [
      "Loading trained model from ..\\data\\processed\tangram_trained_model.pth...\n"
     ]
    },
    {
     "ename": "AttributeError",
     "evalue": "'function' object has no attribute 'load_state_dict'",
     "output_type": "error",
     "traceback": [
      "\u001b[31m---------------------------------------------------------------------------\u001b[39m",
      "\u001b[31mAttributeError\u001b[39m                            Traceback (most recent call last)",
      "\u001b[36mCell\u001b[39m\u001b[36m \u001b[39m\u001b[32mIn[11]\u001b[39m\u001b[32m, line 13\u001b[39m\n\u001b[32m     11\u001b[39m \u001b[38;5;28mprint\u001b[39m(\u001b[33mf\u001b[39m\u001b[33m\"\u001b[39m\u001b[33mLoading trained model from \u001b[39m\u001b[38;5;132;01m{\u001b[39;00mmodel_path\u001b[38;5;132;01m}\u001b[39;00m\u001b[33m...\u001b[39m\u001b[33m\"\u001b[39m)\n\u001b[32m     12\u001b[39m tangram_model = tg.map_cells_to_space\n\u001b[32m---> \u001b[39m\u001b[32m13\u001b[39m \u001b[43mtangram_model\u001b[49m\u001b[43m.\u001b[49m\u001b[43mload_state_dict\u001b[49m(torch.load(model_path))\n\u001b[32m     14\u001b[39m \u001b[38;5;28mprint\u001b[39m(\u001b[33m\"\u001b[39m\u001b[33mTrained model loaded successfully.\u001b[39m\u001b[33m\"\u001b[39m)\n",
      "\u001b[31mAttributeError\u001b[39m: 'function' object has no attribute 'load_state_dict'"
     ]
    }
   ],
   "source": [
    "\n",
    "\n",
    "# # Paths to saved files\n",
    "# trained_sp_data_path = sc_data.h5ad\n",
    "# model_path = \"..\\data\\processed\\tangram_trained_model.pth\"\n",
    "\n",
    "# # Load the spatial data\n",
    "# print(f\"Loading trained spatial data from {trained_sp_data_path}...\")\n",
    "# sp_data = anndata.read_h5ad(trained_sp_data_path)\n",
    "# print(\"Trained spatial data loaded successfully.\")\n",
    "\n",
    "# Load the trained Tangram model\n",
    "print(f\"Loading trained model from {model_path}...\")\n",
    "tangram_model = tg.map_cells_to_space\n",
    "tangram_model.load_state_dict(torch.load(model_path))\n",
    "print(\"Trained model loaded successfully.\")\n",
    "\n",
    "\n"
   ]
  },
  {
   "cell_type": "code",
   "execution_count": 12,
   "metadata": {},
   "outputs": [
    {
     "name": "stdout",
     "output_type": "stream",
     "text": [
      "Visualizing spatial cell-type mapping...\n"
     ]
    },
    {
     "ename": "AttributeError",
     "evalue": "module 'tangram' has no attribute 'plot_cell_type_maps'",
     "output_type": "error",
     "traceback": [
      "\u001b[31m---------------------------------------------------------------------------\u001b[39m",
      "\u001b[31mAttributeError\u001b[39m                            Traceback (most recent call last)",
      "\u001b[36mCell\u001b[39m\u001b[36m \u001b[39m\u001b[32mIn[12]\u001b[39m\u001b[32m, line 3\u001b[39m\n\u001b[32m      1\u001b[39m \u001b[38;5;66;03m# Visualizing spatial cell-type mapping\u001b[39;00m\n\u001b[32m      2\u001b[39m \u001b[38;5;28mprint\u001b[39m(\u001b[33m\"\u001b[39m\u001b[33mVisualizing spatial cell-type mapping...\u001b[39m\u001b[33m\"\u001b[39m)\n\u001b[32m----> \u001b[39m\u001b[32m3\u001b[39m \u001b[43mtg\u001b[49m\u001b[43m.\u001b[49m\u001b[43mplot_cell_type_maps\u001b[49m(sp_data, figsize=(\u001b[32m15\u001b[39m, \u001b[32m15\u001b[39m))\n\u001b[32m      4\u001b[39m plt.show()\n",
      "\u001b[31mAttributeError\u001b[39m: module 'tangram' has no attribute 'plot_cell_type_maps'"
     ]
    }
   ],
   "source": [
    "# Visualizing spatial cell-type mapping\n",
    "print(\"Visualizing spatial cell-type mapping...\")\n",
    "tg.plot_cell_type_maps(sp_data, figsize=(15, 15))\n",
    "plt.show()"
   ]
  },
  {
   "cell_type": "code",
   "execution_count": null,
   "metadata": {},
   "outputs": [],
   "source": []
  },
  {
   "cell_type": "code",
   "execution_count": null,
   "metadata": {},
   "outputs": [],
   "source": []
  },
  {
   "cell_type": "code",
   "execution_count": null,
   "metadata": {},
   "outputs": [],
   "source": []
  },
  {
   "cell_type": "code",
   "execution_count": null,
   "metadata": {},
   "outputs": [],
   "source": []
  },
  {
   "cell_type": "markdown",
   "metadata": {},
   "source": [
    "# New"
   ]
  },
  {
   "cell_type": "code",
   "execution_count": null,
   "metadata": {},
   "outputs": [],
   "source": []
  }
 ],
 "metadata": {
  "kernelspec": {
   "display_name": "Python 3",
   "language": "python",
   "name": "python3"
  },
  "language_info": {
   "codemirror_mode": {
    "name": "ipython",
    "version": 3
   },
   "file_extension": ".py",
   "mimetype": "text/x-python",
   "name": "python",
   "nbconvert_exporter": "python",
   "pygments_lexer": "ipython3",
   "version": "3.13.2"
  }
 },
 "nbformat": 4,
 "nbformat_minor": 2
}
